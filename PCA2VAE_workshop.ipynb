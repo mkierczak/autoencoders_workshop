{
  "nbformat": 4,
  "nbformat_minor": 0,
  "metadata": {
    "colab": {
      "provenance": [],
      "authorship_tag": "ABX9TyOcYIKXBHLPL5BIFeL7Q9pS",
      "include_colab_link": true
    },
    "kernelspec": {
      "name": "python3",
      "display_name": "Python 3"
    },
    "language_info": {
      "name": "python"
    }
  },
  "cells": [
    {
      "cell_type": "markdown",
      "metadata": {
        "id": "view-in-github",
        "colab_type": "text"
      },
      "source": [
        "<a href=\"https://colab.research.google.com/github/mkierczak/autoencoders_workshop/blob/main/PCA2VAE_workshop.ipynb\" target=\"_parent\"><img src=\"https://colab.research.google.com/assets/colab-badge.svg\" alt=\"Open In Colab\"/></a>"
      ]
    },
    {
      "cell_type": "markdown",
      "source": [
        "First, we will download and upack data accompanying article by Lazaridis et. al. [*Genomic insights into the origin of farming in the ancient Near East*](https://www.nature.com/articles/nature19310) 2016. Nature **536**:419-424."
      ],
      "metadata": {
        "id": "MNH1c7NSwCT7"
      }
    },
    {
      "cell_type": "code",
      "source": [
        "import numpy as np\n",
        "import pandas as pd\n",
        "import tensorflow as tf\n",
        "import seaborn as sns\n",
        "from tensorflow import keras\n",
        "from keras import layers\n",
        "from keras import backend as K\n",
        "from matplotlib import pyplot as plt\n",
        "from tensorflow.keras.utils import plot_model\n",
        "from keras import backend\n",
        "from sklearn.decomposition import PCA\n",
        "from itertools import product"
      ],
      "metadata": {
        "id": "5fLVD-Iuaojq"
      },
      "execution_count": 2,
      "outputs": []
    },
    {
      "cell_type": "code",
      "source": [
        "!wget -O data_hd5 https://www.dropbox.com/scl/fi/kck4puyi1qmuzr65bgdbn/HumanOriginsPublic2068_geno_chr1.hd5?rlkey=xp4nfljz0c2za9ihriletxx3x&dl=0"
      ],
      "metadata": {
        "colab": {
          "base_uri": "https://localhost:8080/"
        },
        "id": "cdfrkMEPwIL6",
        "outputId": "6fbd0612-7383-49ae-a6ce-96feb15bbd02"
      },
      "execution_count": 1,
      "outputs": [
        {
          "output_type": "stream",
          "name": "stdout",
          "text": [
            "--2023-09-01 11:02:54--  https://www.dropbox.com/scl/fi/kck4puyi1qmuzr65bgdbn/HumanOriginsPublic2068_geno_chr1.hd5?rlkey=xp4nfljz0c2za9ihriletxx3x\n",
            "Resolving www.dropbox.com (www.dropbox.com)... 162.125.5.18, 2620:100:601d:18::a27d:512\n",
            "Connecting to www.dropbox.com (www.dropbox.com)|162.125.5.18|:443... connected.\n",
            "HTTP request sent, awaiting response... 302 Found\n",
            "Location: https://www.dropbox.com/e/scl/fi/kck4puyi1qmuzr65bgdbn/HumanOriginsPublic2068_geno_chr1.hd5?rlkey=xp4nfljz0c2za9ihriletxx3x [following]\n",
            "--2023-09-01 11:02:54--  https://www.dropbox.com/e/scl/fi/kck4puyi1qmuzr65bgdbn/HumanOriginsPublic2068_geno_chr1.hd5?rlkey=xp4nfljz0c2za9ihriletxx3x\n",
            "Reusing existing connection to www.dropbox.com:443.\n",
            "HTTP request sent, awaiting response... 302 Found\n",
            "Location: https://uccf366adfaa53e80cc43ba93e50.dl.dropboxusercontent.com/cd/0/inline/CC6vmH2EYD9q210-t5ErlsblUkyNwq7yJuafnfL1wjFbtixGFR8qu1oE_XxbX77HXcR--wQePgxXbt7tNeRZbvNKRSMR0sLz1AFOmSoR9pNm9aFTMYR-nYN_e9ECp52YJxA/file# [following]\n",
            "--2023-09-01 11:02:54--  https://uccf366adfaa53e80cc43ba93e50.dl.dropboxusercontent.com/cd/0/inline/CC6vmH2EYD9q210-t5ErlsblUkyNwq7yJuafnfL1wjFbtixGFR8qu1oE_XxbX77HXcR--wQePgxXbt7tNeRZbvNKRSMR0sLz1AFOmSoR9pNm9aFTMYR-nYN_e9ECp52YJxA/file\n",
            "Resolving uccf366adfaa53e80cc43ba93e50.dl.dropboxusercontent.com (uccf366adfaa53e80cc43ba93e50.dl.dropboxusercontent.com)... 162.125.5.15, 2620:100:601d:15::a27d:50f\n",
            "Connecting to uccf366adfaa53e80cc43ba93e50.dl.dropboxusercontent.com (uccf366adfaa53e80cc43ba93e50.dl.dropboxusercontent.com)|162.125.5.15|:443... connected.\n",
            "HTTP request sent, awaiting response... 302 Found\n",
            "Location: /cd/0/inline2/CC7NftFSV7ZpzJcZq5WtBpNy6aidn1TzTeqxCAyaAbIALlGyZpcDl2bIkxxMFqsz-Mcc1K6_3CNXT5bY_GVLif2BO2soPHlnE2eDtR5Re1Celnq_pu_Ufoq9ymz5rMZJu29qGD0N71QwP4YBITbpWD6k41SNL6Nc52PcdxLV6rSTVxTniG0hnpB49uYz5t1eOxMX0W-23gDbtjeXy-8588N9dIeNvtdX69FTEIqRK-A3YMzMspsJhZDnc7fpbW6wh3lG7bZUPjnn2qAl2nQL4E1v2XcXn7uUqgU0_c1kCW3oEAMUkoJm5XOrr836pt9396R8YWYiSA7T6x2VpJQlnC3ITJ-KIHiSYdaWNdawnzntLg/file [following]\n",
            "--2023-09-01 11:02:55--  https://uccf366adfaa53e80cc43ba93e50.dl.dropboxusercontent.com/cd/0/inline2/CC7NftFSV7ZpzJcZq5WtBpNy6aidn1TzTeqxCAyaAbIALlGyZpcDl2bIkxxMFqsz-Mcc1K6_3CNXT5bY_GVLif2BO2soPHlnE2eDtR5Re1Celnq_pu_Ufoq9ymz5rMZJu29qGD0N71QwP4YBITbpWD6k41SNL6Nc52PcdxLV6rSTVxTniG0hnpB49uYz5t1eOxMX0W-23gDbtjeXy-8588N9dIeNvtdX69FTEIqRK-A3YMzMspsJhZDnc7fpbW6wh3lG7bZUPjnn2qAl2nQL4E1v2XcXn7uUqgU0_c1kCW3oEAMUkoJm5XOrr836pt9396R8YWYiSA7T6x2VpJQlnC3ITJ-KIHiSYdaWNdawnzntLg/file\n",
            "Reusing existing connection to uccf366adfaa53e80cc43ba93e50.dl.dropboxusercontent.com:443.\n",
            "HTTP request sent, awaiting response... 200 OK\n",
            "Length: 43138648 (41M) [application/octet-stream]\n",
            "Saving to: ‘data_hd5’\n",
            "\n",
            "data_hd5            100%[===================>]  41.14M  72.2MB/s    in 0.6s    \n",
            "\n",
            "2023-09-01 11:02:56 (72.2 MB/s) - ‘data_hd5’ saved [43138648/43138648]\n",
            "\n"
          ]
        }
      ]
    },
    {
      "cell_type": "code",
      "source": [
        "orig_gt = pd.read_hdf('./data_hd5', key = 'geno')\n",
        "orig_pheno = pd.read_hdf('./data_hd5', key = 'pheno')\n",
        "orig_snp = pd.read_hdf('./data_hd5', key = 'snps')\n"
      ],
      "metadata": {
        "id": "tqmjLTgqaWTj"
      },
      "execution_count": 7,
      "outputs": []
    },
    {
      "cell_type": "code",
      "source": [
        "print(orig_gt.info())\n",
        "print(orig_gt.iloc[0:4, 0:4])\n",
        "print(orig_pheno.iloc[0:4, ])\n",
        "print(orig_snp.iloc[0:4, ])"
      ],
      "metadata": {
        "colab": {
          "base_uri": "https://localhost:8080/"
        },
        "id": "bcrBRSgUbVU0",
        "outputId": "b6fb92d0-ced4-4a4e-a499-594103f7c75e"
      },
      "execution_count": 26,
      "outputs": [
        {
          "output_type": "stream",
          "name": "stdout",
          "text": [
            "<class 'pandas.core.frame.DataFrame'>\n",
            "Index: 2068 entries, SA1004 to G434\n",
            "Columns: 48433 entries, rs7419119 to rs10788875\n",
            "dtypes: float64(48433)\n",
            "memory usage: 764.2+ MB\n",
            "None\n",
            "        rs7419119  rs13302957  rs6696609  rs8997\n",
            "SA1004        2.0         0.0        1.0     2.0\n",
            "SA063         0.0         2.0        1.0     1.0\n",
            "SA010         2.0         1.0        0.0     1.0\n",
            "SA064         2.0         1.0        1.0     1.0\n",
            "       id gender      pop\n",
            "0  SA1004      F  Khomani\n",
            "1   SA063      F  Khomani\n",
            "2   SA010      F  Khomani\n",
            "3   SA064      M  Khomani\n",
            "          SNP CHR        cm       POS A1 A2\n",
            "0   rs7419119   1  0.022518  842013.0  T  G\n",
            "1  rs13302957   1  0.024116  891021.0  G  A\n",
            "2   rs6696609   1  0.024457  903426.0  C  T\n",
            "3      rs8997   1  0.025727  949654.0  A  G\n"
          ]
        }
      ]
    },
    {
      "cell_type": "code",
      "source": [
        "print(\"Missing genotypes per marker: \\n\", orig_gt.isna().sum())"
      ],
      "metadata": {
        "colab": {
          "base_uri": "https://localhost:8080/"
        },
        "id": "3dkrQqTUc11Z",
        "outputId": "e9d68a3d-71ef-4c56-9910-4542add1b1ff"
      },
      "execution_count": 30,
      "outputs": [
        {
          "output_type": "stream",
          "name": "stdout",
          "text": [
            "Missing genotypes per marker: \n",
            " rs7419119      4\n",
            "rs13302957     3\n",
            "rs6696609     14\n",
            "rs8997        10\n",
            "rs9442372      5\n",
            "              ..\n",
            "rs6683472      6\n",
            "rs4926509     10\n",
            "rs11205415     7\n",
            "rs4072273      4\n",
            "rs10788875     5\n",
            "Length: 48433, dtype: int64\n"
          ]
        }
      ]
    },
    {
      "cell_type": "code",
      "source": [
        "geno = orig_gt.replace([0, 1.0, 2.0], [0.5, 0.75, 1.0])\n",
        "geno.fillna(0, inplace = True)\n",
        "print(geno.isna().sum())\n",
        "print(geno.iloc[0:5, 0:5])\n"
      ],
      "metadata": {
        "colab": {
          "base_uri": "https://localhost:8080/"
        },
        "id": "ZKVsSINldHiW",
        "outputId": "d23654cf-c531-4ea1-c78e-b7c1644689cb"
      },
      "execution_count": 31,
      "outputs": [
        {
          "output_type": "stream",
          "name": "stdout",
          "text": [
            "rs7419119     0\n",
            "rs13302957    0\n",
            "rs6696609     0\n",
            "rs8997        0\n",
            "rs9442372     0\n",
            "             ..\n",
            "rs6683472     0\n",
            "rs4926509     0\n",
            "rs11205415    0\n",
            "rs4072273     0\n",
            "rs10788875    0\n",
            "Length: 48433, dtype: int64\n",
            "        rs7419119  rs13302957  rs6696609  rs8997  rs9442372\n",
            "SA1004       1.00        0.50       0.75    1.00       0.50\n",
            "SA063        0.50        1.00       0.75    0.75       0.75\n",
            "SA010        1.00        0.75       0.50    0.75       0.50\n",
            "SA064        1.00        0.75       0.75    0.75       0.75\n",
            "SA073        0.75        0.50       0.75    0.75       0.50\n"
          ]
        }
      ]
    },
    {
      "cell_type": "code",
      "source": [
        "train = geno.sample(frac = 0.8, random_state = 42)\n",
        "test = geno.drop(train.index)\n",
        "pheno = orig_pheno.set_index(keys = 'id')\n",
        "train_pheno = pheno[pheno.index.isin(train.index)]\n",
        "test_pheno = pheno.drop(train.index)\n",
        "train.reset_index()\n",
        "test.reset_index()\n",
        "train_pheno.reset_index()\n",
        "test_pheno.reset_index()\n",
        "\n",
        "# Print some info about the resulting split\n",
        "print(\"Original data:\", orig_gt.shape)\n",
        "print(\"\\t - training set:\", train.shape)\n",
        "print(\"\\t - test set:\", test.shape)"
      ],
      "metadata": {
        "colab": {
          "base_uri": "https://localhost:8080/"
        },
        "id": "b6-1i5-TdVSZ",
        "outputId": "0b779e56-880d-47ef-aa51-ee802b00a5fc"
      },
      "execution_count": 41,
      "outputs": [
        {
          "output_type": "stream",
          "name": "stdout",
          "text": [
            "Original data: (2068, 48433)\n",
            "\t - training set: (1654, 48433)\n",
            "\t - test set: (414, 48433)\n"
          ]
        }
      ]
    }
  ]
}